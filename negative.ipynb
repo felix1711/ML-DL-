{
 "cells": [
  {
   "cell_type": "code",
   "execution_count": null,
   "id": "a6753049-c910-4738-b272-1d1136bb26ec",
   "metadata": {
    "tags": []
   },
   "outputs": [],
   "source": [
    "# from PIL import Image\n",
    "\n",
    "# # Load the black and white image\n",
    "# img = Image.open(r\"C:\\Users\\E11461\\Pictures\\Screenshots\\Screenshot 2024-06-21 094132.png\")  # Replace with your image path\n",
    "\n",
    "# # Check the image mode (should be 'L' for grayscale)\n",
    "# if img.mode != 'L':\n",
    "#   # Convert to grayscale if needed (optional)\n",
    "#   img = img.convert('L')\n",
    "\n",
    "# # Get image dimensions\n",
    "# width, height = img.size\n",
    "\n",
    "# # Create an empty matrix to store grayscale intensities\n",
    "# grayscale_matrix = []\n",
    "\n",
    "# # Loop through each pixel and get its grayscale value\n",
    "# for y in range(height):\n",
    "#   row = []\n",
    "#   for x in range(width):\n",
    "#     # Get pixel value (grayscale intensity)\n",
    "#     grayscale_value = (-1)*img.getpixel((x, y))\n",
    "#     row.append(grayscale_value)\n",
    "#   grayscale_matrix.append(row)\n",
    "\n",
    "# # Now 'grayscale_matrix' contains a 2D list with grayscale intensities for each pixel\n",
    "# print(grayscale_matrix)\n"
   ]
  },
  {
   "cell_type": "code",
   "execution_count": null,
   "id": "e2d452c5-2748-4084-b5e6-aa480fa4c6dc",
   "metadata": {
    "tags": []
   },
   "outputs": [],
   "source": [
    "# import numpy as np\n",
    "# rows = len(grayscale_matrix)\n",
    "# print(len(grayscale_matrix))\n",
    "# cols = len(grayscale_matrix[0])\n",
    "# print(len(grayscale_matrix[0]))"
   ]
  },
  {
   "cell_type": "code",
   "execution_count": null,
   "id": "e68aa6ea-40a5-4064-9f95-0f90ff263886",
   "metadata": {
    "tags": []
   },
   "outputs": [],
   "source": [
    "# ones_arr = np.ones((rows, cols))\n",
    "\n",
    "# ones_arr =255*ones_arr\n",
    "# print(ones_arr)"
   ]
  },
  {
   "cell_type": "code",
   "execution_count": null,
   "id": "b4c19226-5d2b-4c6a-860c-b3ff8b1614e5",
   "metadata": {
    "tags": []
   },
   "outputs": [],
   "source": [
    "# print(rows)\n",
    "# print(cols)"
   ]
  },
  {
   "cell_type": "code",
   "execution_count": null,
   "id": "5741d154-dd17-4169-8dd3-3af4d293dba9",
   "metadata": {
    "tags": []
   },
   "outputs": [],
   "source": [
    "# matrix_array = np.array(grayscale_matrix)"
   ]
  },
  {
   "cell_type": "code",
   "execution_count": null,
   "id": "7fa1597f-eafc-4c0d-8d9d-2f7e1c7a5b60",
   "metadata": {
    "tags": []
   },
   "outputs": [],
   "source": [
    "# result = ones_arr + matrix_array\n",
    "# print(result)"
   ]
  },
  {
   "cell_type": "code",
   "execution_count": null,
   "id": "3a4b95c7-7788-47e9-a411-9e91e51073d2",
   "metadata": {
    "tags": []
   },
   "outputs": [],
   "source": [
    "# new_matrix = []\n",
    "\n",
    "# # Loop through each pixel and get its grayscale value\n",
    "# for y in range(rows):\n",
    "#   row = []\n",
    "#   for x in range(cols):\n",
    "#     # Get pixel value (grayscale intensity)\n",
    "#     grayscale_value = result[y][x]\n",
    "#     row.append(grayscale_value)\n",
    "#   new_matrix.append(row)\n",
    "\n",
    "# # Now 'grayscale_matrix' contains a 2D list with grayscale intensities for each pixel\n",
    "# print(new_matrix)"
   ]
  },
  {
   "cell_type": "code",
   "execution_count": null,
   "id": "f983cafe-6c3d-46b7-99d0-6dca4e4c1f68",
   "metadata": {
    "tags": []
   },
   "outputs": [],
   "source": [
    "# new_matrix_array.shape"
   ]
  },
  {
   "cell_type": "code",
   "execution_count": null,
   "id": "6813242d-53f3-4009-b366-31e00cad4ab3",
   "metadata": {
    "tags": []
   },
   "outputs": [],
   "source": [
    "# new_matrix = np.array(new_matrix, dtype=np.uint8)\n",
    "# new_matrix = new_matrix.astype(int)"
   ]
  },
  {
   "cell_type": "code",
   "execution_count": null,
   "id": "52c386fc-3a05-44d7-a24b-9dc587a92b80",
   "metadata": {
    "tags": []
   },
   "outputs": [],
   "source": [
    "# from PIL import Image\n",
    "# import os"
   ]
  },
  {
   "cell_type": "code",
   "execution_count": null,
   "id": "540aae7a-d3c0-4f87-afff-b1503d5932d7",
   "metadata": {
    "tags": []
   },
   "outputs": [],
   "source": [
    "# print(new_matrix)"
   ]
  },
  {
   "cell_type": "code",
   "execution_count": 74,
   "id": "795ac57b-a65f-4fa0-9955-b6701507a289",
   "metadata": {
    "tags": []
   },
   "outputs": [],
   "source": [
    "# new_matrix_array = np.array(new_matrix)\n",
    "# grayscale_image = Image.fromarray(new_matrix_array,mode='L')\n",
    "# grayscale_image.save(\"grayscale_image.png\") \n",
    "# os.startfile(\"grayscale_image.png\")"
   ]
  },
  {
   "cell_type": "code",
   "execution_count": null,
   "id": "77ef1985-547b-4235-9aa5-d58cd414659b",
   "metadata": {
    "tags": []
   },
   "outputs": [],
   "source": [
    "# #   # Create a new grayscale image using a loop\n",
    "# grayscale_image = Image.new(\"L\", (cols,rows))\n",
    "# for y in range(rows):\n",
    "#     for x in range(cols):\n",
    "#         grayscale_image.putpixel((x, y), new_matrix[y][x])"
   ]
  },
  {
   "cell_type": "code",
   "execution_count": null,
   "id": "c641a1e0-3c15-47bb-88a9-2e06fdc06ddf",
   "metadata": {
    "tags": []
   },
   "outputs": [],
   "source": [
    "# import numpy as np\n",
    "# from PIL import Image\n",
    "# import os  # Optional, for opening the image with the default viewer\n",
    "\n",
    "# # Assuming your new_matrix is a list of lists representing grayscale pixel values\n",
    "# new_matrix_array = np.array(new_matrix, dtype=np.uint8)  # Ensure data type\n",
    "# new_matrix_array_int = new_matrix_array.astype(int)\n",
    "# # Get image dimensions from the matrix\n",
    "# rows, cols = len(new_matrix_array), len(new_matrix_array[0])\n",
    "\n",
    "# # Validate dimensions (all elements should be valid pixel values)\n",
    "# for y in range(rows):\n",
    "#     if len(new_matrix_array_int[y]) != cols:\n",
    "#         raise ValueError(\"Inconsistent row lengths. Ensure all rows have the same number of elements.\")\n",
    "#     for x in range(cols):\n",
    "#         if not 0 <= new_matrix_array_int[y][x] <= 255:\n",
    "#             raise ValueError(f\"Invalid pixel value: {new_matrix_array_int[y][x]}. All values must be between 0 and 255.\")\n",
    "\n",
    "# # Create a new grayscale image\n",
    "# grayscale_image = Image.new(\"L\", (cols, rows))  # \"L\" mode for grayscale\n",
    "\n",
    "# # Assign pixel values using putpixel (corrected)\n",
    "# for y in range(rows):\n",
    "#     for x in range(cols):\n",
    "#         grayscale_image.putpixel((x, y), new_matrix_array_int[y][x])\n",
    "\n",
    "# # Save the image\n",
    "# grayscale_image.save(\"grayscale_image.png\")\n",
    "\n",
    "# # Open the image (optional)\n",
    "# os.startfile(\"grayscale_image.png\")\n"
   ]
  },
  {
   "cell_type": "code",
   "execution_count": 77,
   "id": "974e0e39-c65d-419d-891b-b191e3d102e9",
   "metadata": {
    "tags": []
   },
   "outputs": [],
   "source": [
    "import cv2\n",
    "import numpy as np\n",
    "image_path = r\"C:\\Users\\E11461\\Pictures\\Screenshots\\Screenshot 2024-06-21 094132.png\"  # Replace with your image path\n",
    "image = cv2.imread(image_path)\n",
    "\n",
    "# Check if image is loaded successfully\n",
    "if image is None:\n",
    "    print(\"Error: Could not read image from\", image_path)\n",
    "    exit()\n"
   ]
  },
  {
   "cell_type": "code",
   "execution_count": 78,
   "id": "d170066a-2706-43b2-863c-1ad8de3b6a7d",
   "metadata": {
    "tags": []
   },
   "outputs": [],
   "source": [
    "grayscale_image = cv2.cvtColor(image, cv2.COLOR_BGR2GRAY)\n"
   ]
  },
  {
   "cell_type": "code",
   "execution_count": 79,
   "id": "e3f07db3-624b-4840-9525-706ce3f6208e",
   "metadata": {
    "tags": []
   },
   "outputs": [],
   "source": [
    "negative_image = 255 - grayscale_image\n"
   ]
  },
  {
   "cell_type": "code",
   "execution_count": null,
   "id": "8c54441c-096f-4b83-84f3-dce1eecab186",
   "metadata": {
    "tags": []
   },
   "outputs": [],
   "source": [
    "# Option 1: Display the image using OpenCV\n",
    "cv2.imshow(\"Negative Image\", negative_image)\n",
    "cv2.waitKey(0)  # Wait for a key press to close the window\n",
    "cv2.destroyAllWindows()\n",
    "\n",
    "# # Option 2: Save the negative image\n",
    "# cv2.imwrite(\"negative_image.png\", negative_image)\n"
   ]
  },
  {
   "cell_type": "code",
   "execution_count": null,
   "id": "46d2af41-661b-44b7-8dac-e8a6b48f38b1",
   "metadata": {},
   "outputs": [],
   "source": []
  }
 ],
 "metadata": {
  "kernelspec": {
   "display_name": "Python 3 (ipykernel)",
   "language": "python",
   "name": "python3"
  },
  "language_info": {
   "codemirror_mode": {
    "name": "ipython",
    "version": 3
   },
   "file_extension": ".py",
   "mimetype": "text/x-python",
   "name": "python",
   "nbconvert_exporter": "python",
   "pygments_lexer": "ipython3",
   "version": "3.11.4"
  }
 },
 "nbformat": 4,
 "nbformat_minor": 5
}
